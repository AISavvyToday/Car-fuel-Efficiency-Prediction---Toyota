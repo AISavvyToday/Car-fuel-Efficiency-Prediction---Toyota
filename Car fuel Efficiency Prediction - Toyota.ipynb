{
 "cells": [
  {
   "cell_type": "markdown",
   "id": "f8a9c2e8",
   "metadata": {},
   "source": [
    "# Automobile Fuel Efficiency Prediction using PyTorch\n",
    "\n",
    "This notebook presents an end-to-end process for predicting the fuel efficiency (highway MPG) of Toyota cars \n",
    "using a neural network built with PyTorch. The steps include:\n",
    "\n",
    "1. Loading and inspecting the dataset.\n",
    "2. Preprocessing the data, which involves filtering for Toyota cars, selecting features, and normalizing them.\n",
    "3. Defining a neural network model architecture.\n",
    "4. Training the model with the prepared data.\n",
    "5. Evaluating the model's performance on test data.\n",
    "6. Saving the trained model for future predictions.\n",
    "\n",
    "We aim to predict the `highway-mpg` for cars, which is a critical metric for estimating a car's fuel efficiency on highways."
   ]
  },
  {
   "cell_type": "code",
   "execution_count": 2,
   "id": "ae1c8411",
   "metadata": {},
   "outputs": [],
   "source": [
    "import pandas as pd\n",
    "import numpy as np\n",
    "from sklearn.model_selection import train_test_split\n",
    "from sklearn.preprocessing import StandardScaler, OneHotEncoder\n",
    "from sklearn.compose import ColumnTransformer\n",
    "from sklearn.pipeline import Pipeline\n",
    "import torch\n",
    "import torch.nn as nn\n",
    "import torch.optim as optim"
   ]
  },
  {
   "cell_type": "code",
   "execution_count": 4,
   "id": "3f436886",
   "metadata": {},
   "outputs": [
    {
     "data": {
      "text/html": [
       "<div>\n",
       "<style scoped>\n",
       "    .dataframe tbody tr th:only-of-type {\n",
       "        vertical-align: middle;\n",
       "    }\n",
       "\n",
       "    .dataframe tbody tr th {\n",
       "        vertical-align: top;\n",
       "    }\n",
       "\n",
       "    .dataframe thead th {\n",
       "        text-align: right;\n",
       "    }\n",
       "</style>\n",
       "<table border=\"1\" class=\"dataframe\">\n",
       "  <thead>\n",
       "    <tr style=\"text-align: right;\">\n",
       "      <th></th>\n",
       "      <th>symboling</th>\n",
       "      <th>normalized-losses</th>\n",
       "      <th>make</th>\n",
       "      <th>aspiration</th>\n",
       "      <th>num-of-doors</th>\n",
       "      <th>body-style</th>\n",
       "      <th>drive-wheels</th>\n",
       "      <th>engine-location</th>\n",
       "      <th>wheel-base</th>\n",
       "      <th>length</th>\n",
       "      <th>...</th>\n",
       "      <th>peak-rpm</th>\n",
       "      <th>city-mpg</th>\n",
       "      <th>highway-mpg</th>\n",
       "      <th>price</th>\n",
       "      <th>city-L/100km</th>\n",
       "      <th>highway-L/100km</th>\n",
       "      <th>horsepower-binned</th>\n",
       "      <th>fuel-type-diesel</th>\n",
       "      <th>fuel-type-gas</th>\n",
       "      <th>Car Size</th>\n",
       "    </tr>\n",
       "  </thead>\n",
       "  <tbody>\n",
       "    <tr>\n",
       "      <th>0</th>\n",
       "      <td>3</td>\n",
       "      <td>121</td>\n",
       "      <td>alfa-romero</td>\n",
       "      <td>std</td>\n",
       "      <td>two</td>\n",
       "      <td>convertible</td>\n",
       "      <td>rwd</td>\n",
       "      <td>front</td>\n",
       "      <td>88.6</td>\n",
       "      <td>0.811148</td>\n",
       "      <td>...</td>\n",
       "      <td>5000.0</td>\n",
       "      <td>21</td>\n",
       "      <td>27</td>\n",
       "      <td>13495</td>\n",
       "      <td>11.190476</td>\n",
       "      <td>9.370370</td>\n",
       "      <td>low</td>\n",
       "      <td>0</td>\n",
       "      <td>1</td>\n",
       "      <td>0.589311</td>\n",
       "    </tr>\n",
       "    <tr>\n",
       "      <th>1</th>\n",
       "      <td>3</td>\n",
       "      <td>121</td>\n",
       "      <td>alfa-romero</td>\n",
       "      <td>std</td>\n",
       "      <td>two</td>\n",
       "      <td>convertible</td>\n",
       "      <td>rwd</td>\n",
       "      <td>front</td>\n",
       "      <td>88.6</td>\n",
       "      <td>0.811148</td>\n",
       "      <td>...</td>\n",
       "      <td>5000.0</td>\n",
       "      <td>21</td>\n",
       "      <td>27</td>\n",
       "      <td>16500</td>\n",
       "      <td>11.190476</td>\n",
       "      <td>9.370370</td>\n",
       "      <td>low</td>\n",
       "      <td>0</td>\n",
       "      <td>1</td>\n",
       "      <td>0.589311</td>\n",
       "    </tr>\n",
       "    <tr>\n",
       "      <th>2</th>\n",
       "      <td>1</td>\n",
       "      <td>121</td>\n",
       "      <td>alfa-romero</td>\n",
       "      <td>std</td>\n",
       "      <td>two</td>\n",
       "      <td>hatchback</td>\n",
       "      <td>rwd</td>\n",
       "      <td>front</td>\n",
       "      <td>94.5</td>\n",
       "      <td>0.822681</td>\n",
       "      <td>...</td>\n",
       "      <td>5000.0</td>\n",
       "      <td>19</td>\n",
       "      <td>26</td>\n",
       "      <td>16500</td>\n",
       "      <td>12.368421</td>\n",
       "      <td>9.730769</td>\n",
       "      <td>medium</td>\n",
       "      <td>0</td>\n",
       "      <td>1</td>\n",
       "      <td>0.655799</td>\n",
       "    </tr>\n",
       "    <tr>\n",
       "      <th>3</th>\n",
       "      <td>2</td>\n",
       "      <td>164</td>\n",
       "      <td>audi</td>\n",
       "      <td>std</td>\n",
       "      <td>four</td>\n",
       "      <td>sedan</td>\n",
       "      <td>fwd</td>\n",
       "      <td>front</td>\n",
       "      <td>99.8</td>\n",
       "      <td>0.848630</td>\n",
       "      <td>...</td>\n",
       "      <td>5500.0</td>\n",
       "      <td>24</td>\n",
       "      <td>30</td>\n",
       "      <td>13950</td>\n",
       "      <td>9.791667</td>\n",
       "      <td>8.433333</td>\n",
       "      <td>low</td>\n",
       "      <td>0</td>\n",
       "      <td>1</td>\n",
       "      <td>0.708505</td>\n",
       "    </tr>\n",
       "    <tr>\n",
       "      <th>4</th>\n",
       "      <td>2</td>\n",
       "      <td>164</td>\n",
       "      <td>audi</td>\n",
       "      <td>std</td>\n",
       "      <td>four</td>\n",
       "      <td>sedan</td>\n",
       "      <td>4wd</td>\n",
       "      <td>front</td>\n",
       "      <td>99.4</td>\n",
       "      <td>0.848630</td>\n",
       "      <td>...</td>\n",
       "      <td>5500.0</td>\n",
       "      <td>18</td>\n",
       "      <td>22</td>\n",
       "      <td>17450</td>\n",
       "      <td>13.055556</td>\n",
       "      <td>11.500000</td>\n",
       "      <td>low</td>\n",
       "      <td>0</td>\n",
       "      <td>1</td>\n",
       "      <td>0.710645</td>\n",
       "    </tr>\n",
       "  </tbody>\n",
       "</table>\n",
       "<p>5 rows × 31 columns</p>\n",
       "</div>"
      ],
      "text/plain": [
       "   symboling  normalized-losses         make aspiration num-of-doors  \\\n",
       "0          3                121  alfa-romero        std          two   \n",
       "1          3                121  alfa-romero        std          two   \n",
       "2          1                121  alfa-romero        std          two   \n",
       "3          2                164         audi        std         four   \n",
       "4          2                164         audi        std         four   \n",
       "\n",
       "    body-style drive-wheels engine-location  wheel-base    length  ...  \\\n",
       "0  convertible          rwd           front        88.6  0.811148  ...   \n",
       "1  convertible          rwd           front        88.6  0.811148  ...   \n",
       "2    hatchback          rwd           front        94.5  0.822681  ...   \n",
       "3        sedan          fwd           front        99.8  0.848630  ...   \n",
       "4        sedan          4wd           front        99.4  0.848630  ...   \n",
       "\n",
       "   peak-rpm  city-mpg  highway-mpg  price city-L/100km  highway-L/100km  \\\n",
       "0    5000.0        21           27  13495    11.190476         9.370370   \n",
       "1    5000.0        21           27  16500    11.190476         9.370370   \n",
       "2    5000.0        19           26  16500    12.368421         9.730769   \n",
       "3    5500.0        24           30  13950     9.791667         8.433333   \n",
       "4    5500.0        18           22  17450    13.055556        11.500000   \n",
       "\n",
       "  horsepower-binned  fuel-type-diesel  fuel-type-gas  Car Size  \n",
       "0               low                 0              1  0.589311  \n",
       "1               low                 0              1  0.589311  \n",
       "2            medium                 0              1  0.655799  \n",
       "3               low                 0              1  0.708505  \n",
       "4               low                 0              1  0.710645  \n",
       "\n",
       "[5 rows x 31 columns]"
      ]
     },
     "execution_count": 4,
     "metadata": {},
     "output_type": "execute_result"
    }
   ],
   "source": [
    "# Load the dataset\n",
    "data_path = 'cleaned_automobile.csv'\n",
    "automobile_data = pd.read_csv(data_path)\n",
    "automobile_data.head()"
   ]
  },
  {
   "cell_type": "code",
   "execution_count": 5,
   "id": "55da0daa",
   "metadata": {},
   "outputs": [],
   "source": [
    "# Filter the dataset for Toyota vehicles\n",
    "toyota_data = automobile_data[automobile_data['make'] == 'toyota']"
   ]
  },
  {
   "cell_type": "code",
   "execution_count": 6,
   "id": "161125e3",
   "metadata": {},
   "outputs": [],
   "source": [
    "# Select relevant features for the model\n",
    "features = ['engine-size', 'curb-weight', 'horsepower', 'peak-rpm', 'city-mpg']\n",
    "target = 'highway-mpg'"
   ]
  },
  {
   "cell_type": "code",
   "execution_count": 7,
   "id": "7525d42d",
   "metadata": {},
   "outputs": [],
   "source": [
    "# Prepare the feature matrix and target vector\n",
    "X = toyota_data[features]\n",
    "y = toyota_data[target]"
   ]
  },
  {
   "cell_type": "code",
   "execution_count": 8,
   "id": "e8192f16",
   "metadata": {},
   "outputs": [],
   "source": [
    "\n",
    "# Split the data into training and test sets\n",
    "X_train, X_test, y_train, y_test = train_test_split(X, y, test_size=0.2, random_state=42)"
   ]
  },
  {
   "cell_type": "code",
   "execution_count": 9,
   "id": "7bd138bf",
   "metadata": {},
   "outputs": [],
   "source": [
    "# Define a data preprocessing pipeline\n",
    "numerical_features = features\n",
    "numerical_transformer = StandardScaler()"
   ]
  },
  {
   "cell_type": "code",
   "execution_count": 10,
   "id": "0daeff5c",
   "metadata": {},
   "outputs": [],
   "source": [
    "# Combine transformers into a preprocessor step\n",
    "preprocessor = ColumnTransformer(\n",
    "    transformers=[\n",
    "        ('num', numerical_transformer, numerical_features),\n",
    "    ])"
   ]
  },
  {
   "cell_type": "code",
   "execution_count": 11,
   "id": "e502824e",
   "metadata": {},
   "outputs": [],
   "source": [
    "# Create a preprocessing and training pipeline\n",
    "pipeline = Pipeline(steps=[('preprocessor', preprocessor)])"
   ]
  },
  {
   "cell_type": "code",
   "execution_count": 12,
   "id": "88318130",
   "metadata": {},
   "outputs": [],
   "source": [
    "# Apply the preprocessing pipeline to the training data\n",
    "X_train_prepared = pipeline.fit_transform(X_train)\n",
    "X_test_prepared = pipeline.transform(X_test)"
   ]
  },
  {
   "cell_type": "code",
   "execution_count": 13,
   "id": "25f06442",
   "metadata": {},
   "outputs": [],
   "source": [
    "# Define the neural network architecture\n",
    "class Net(nn.Module):\n",
    "    def __init__(self):\n",
    "        super(Net, self).__init__()\n",
    "        self.fc1 = nn.Linear(5, 64)\n",
    "        self.fc2 = nn.Linear(64, 64)\n",
    "        self.fc3 = nn.Linear(64, 1) \n",
    "\n",
    "    def forward(self, x):\n",
    "        x = torch.relu(self.fc1(x))\n",
    "        x = torch.relu(self.fc2(x))\n",
    "        return self.fc3(x)\n",
    "# Initialize the network\n",
    "net = Net()    "
   ]
  },
  {
   "cell_type": "code",
   "execution_count": 14,
   "id": "e8034a17",
   "metadata": {},
   "outputs": [],
   "source": [
    "# Define the loss function and optimizer\n",
    "criterion = nn.MSELoss()\n",
    "optimizer = optim.Adam(net.parameters(), lr=0.001)"
   ]
  },
  {
   "cell_type": "code",
   "execution_count": 15,
   "id": "e8c7a717",
   "metadata": {},
   "outputs": [],
   "source": [
    "# Convert numpy arrays to PyTorch tensors\n",
    "X_train_tensor = torch.tensor(X_train_prepared.astype(np.float32))\n",
    "y_train_tensor = torch.tensor(y_train.values.astype(np.float32)).view(-1, 1)\n",
    "X_test_tensor = torch.tensor(X_test_prepared.astype(np.float32))\n",
    "y_test_tensor = torch.tensor(y_test.values.astype(np.float32)).view(-1, 1)"
   ]
  },
  {
   "cell_type": "code",
   "execution_count": 16,
   "id": "0d47efe8",
   "metadata": {},
   "outputs": [
    {
     "name": "stdout",
     "output_type": "stream",
     "text": [
      "Epoch 0, Training loss 1134.728271484375, Test loss 1079.02001953125\n",
      "Epoch 100, Training loss 211.02523803710938, Test loss 204.09706115722656\n",
      "Epoch 200, Training loss 27.352506637573242, Test loss 54.114864349365234\n",
      "Epoch 300, Training loss 16.935937881469727, Test loss 33.133880615234375\n",
      "Epoch 400, Training loss 12.158271789550781, Test loss 26.2406063079834\n",
      "Epoch 500, Training loss 8.476327896118164, Test loss 21.687862396240234\n",
      "Epoch 600, Training loss 5.348508834838867, Test loss 19.0009765625\n",
      "Epoch 700, Training loss 3.061279535293579, Test loss 18.992721557617188\n",
      "Epoch 800, Training loss 1.6207307577133179, Test loss 22.119876861572266\n",
      "Epoch 900, Training loss 0.8390568494796753, Test loss 28.499038696289062\n"
     ]
    }
   ],
   "source": [
    "# Training loop\n",
    "for epoch in range(1000): \n",
    "    net.train()\n",
    "    optimizer.zero_grad() \n",
    "    output = net(X_train_tensor)\n",
    "    loss = criterion(output, y_train_tensor)\n",
    "    loss.backward()\n",
    "    optimizer.step()\n",
    "\n",
    "    if epoch % 100 == 0:\n",
    "        net.eval()\n",
    "        with torch.no_grad():\n",
    "            test_loss = criterion(net(X_test_tensor), y_test_tensor)\n",
    "            print(f'Epoch {epoch}, Training loss {loss.item()}, Test loss {test_loss.item()}')"
   ]
  },
  {
   "cell_type": "code",
   "execution_count": 17,
   "id": "1fd2cffd",
   "metadata": {},
   "outputs": [],
   "source": [
    "# Save the trained model\n",
    "torch.save(net.state_dict(), 'toyota_mpg_prediction_model.pth')"
   ]
  },
  {
   "cell_type": "code",
   "execution_count": 18,
   "id": "2b189376",
   "metadata": {},
   "outputs": [
    {
     "name": "stdout",
     "output_type": "stream",
     "text": [
      "Predicted highway-mpg for the sample Toyota car: 25.20076560974121\n"
     ]
    }
   ],
   "source": [
    "# Making a prediction with the trained model\n",
    "# For demonstration, let's predict the highway-mpg for the first car in the test set\n",
    "net.eval()\n",
    "with torch.no_grad():\n",
    "    sample_car = X_test_tensor[0]\n",
    "    predicted_mpg = net(sample_car)\n",
    "    print(f'Predicted highway-mpg for the sample Toyota car: {predicted_mpg.item()}')"
   ]
  },
  {
   "cell_type": "code",
   "execution_count": 20,
   "id": "0be9e511",
   "metadata": {},
   "outputs": [
    {
     "name": "stdout",
     "output_type": "stream",
     "text": [
      "Mean Squared Error on test set: 34.349586486816406\n",
      "R^2 Score on test set: 0.37196656006932516\n"
     ]
    }
   ],
   "source": [
    "from sklearn.metrics import mean_squared_error, r2_score\n",
    "\n",
    "net.eval()\n",
    "with torch.no_grad():\n",
    "    predictions = net(X_test_tensor)\n",
    "    mse = mean_squared_error(y_test_tensor.numpy(), predictions.numpy())\n",
    "    r2 = r2_score(y_test_tensor.numpy(), predictions.numpy())\n",
    "    print(f'Mean Squared Error on test set: {mse}')\n",
    "    print(f'R^2 Score on test set: {r2}')"
   ]
  },
  {
   "cell_type": "markdown",
   "id": "721261b7",
   "metadata": {},
   "source": [
    "## Model Evaluation and Analysis\n",
    "\n",
    "### Prediction Results\n",
    "The developed neural network model was applied to a sample Toyota car from the test set, resulting in a predicted `highway-mpg` of approximately 25.20. This single prediction provides a glimpse into the model's capability to estimate fuel efficiency based on the features provided.\n",
    "\n",
    "### Model Performance\n",
    "The model's performance was quantitatively assessed using two common regression metrics:\n",
    "\n",
    "- **Mean Squared Error (MSE):** The MSE on the test set is around 34.35. This value represents the average squared difference between the actual and predicted values. The relatively high MSE suggests that the model's predictions are, on average, a considerable distance from the actual values.\n",
    "  \n",
    "- **R^2 Score:** The R^2 score, or the coefficient of determination, is approximately 0.37. This score indicates that around 37% of the variance in the `highway-mpg` is explained by the model. An R^2 score of 0.37 is generally considered a low score, implying that the model does not very accurately capture the variation in the fuel efficiency based on the features it was given.\n",
    "\n",
    "### Insights and Suggested Improvements\n",
    "\n",
    "Considering the modest R^2 score and high MSE, the model's performance can be considered suboptimal. This could be due to several factors, including:\n",
    "\n",
    "  \n",
    "- **Model Complexity:** The current architecture of the neural network may be too simple to capture the underlying patterns in the data. Experimenting with a more complex model or different architectures might yield better results.\n",
    "  \n",
    "- **Data Quality:** The quality of the dataset, including the accuracy and the granularity of the data, can significantly impact model performance. Ensuring that the dataset is well-curated and representative of the population is crucial. Notable is the little amount of data used in this experiment especially after filtering data for only Toyota Car Brand. More observations are required to get more accurate results\n",
    "  \n",
    "- **Hyperparameter Tuning:** Adjusting the model's hyperparameters, such as the learning rate, the number of epochs, and the number of neurons in each layer, can lead to better performance.\n",
    "\n",
    "Important Additional Adjustments could be:\n",
    "\n",
    "- Exploring alternative models, such as Random Forest or Gradient Boosting, which may capture non-linear relationships more effectively.\n",
    "- Increasing the dataset size if possible to provide the model with more training examples."
   ]
  }
 ],
 "metadata": {
  "kernelspec": {
   "display_name": "Python 3 (ipykernel)",
   "language": "python",
   "name": "python3"
  },
  "language_info": {
   "codemirror_mode": {
    "name": "ipython",
    "version": 3
   },
   "file_extension": ".py",
   "mimetype": "text/x-python",
   "name": "python",
   "nbconvert_exporter": "python",
   "pygments_lexer": "ipython3",
   "version": "3.9.18"
  }
 },
 "nbformat": 4,
 "nbformat_minor": 5
}
